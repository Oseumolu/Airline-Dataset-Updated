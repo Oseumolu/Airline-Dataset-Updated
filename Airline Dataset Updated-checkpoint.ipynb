{
 "cells": [
  {
   "cell_type": "markdown",
   "id": "35a9c029",
   "metadata": {},
   "source": [
    "These python analysis of Airline Dataset aimes to answers these questions as follows:\n",
    "\n",
    "1.Exploratory Data Analysis (EDA):\n",
    "What is the average age of passengers?\n",
    "What is the distribution of passengers by gender?\n",
    "2.What is the distribution of passengers' nationalities in the dataset?\n",
    "python\n",
    "3.Which airport had the most departures in this dataset, and how many departures were there?\n",
    "4.What is the distribution of passengers by continent of nationality?\n",
    "5.What is the flight status for the flight with the most recent departure date, and who is the pilot for that flight?\n",
    "6.How many passengers are there from the United States, and what is the average age of these passengers?\n",
    "7.What is the total number of passengers on-time vs. delayed by flight status?\n"
   ]
  },
  {
   "cell_type": "code",
   "execution_count": 1,
   "id": "026ecd15",
   "metadata": {},
   "outputs": [],
   "source": [
    "import pandas as pd\n",
    "import plotly.express as px\n",
    "from plotly.subplots import make_subplots\n",
    "import plotly.graph_objects as go\n",
    "\n",
    "df = pd.read_csv('Airline Dataset Updated - v2.csv')"
   ]
  },
  {
   "cell_type": "markdown",
   "id": "006ce0c3",
   "metadata": {},
   "source": [
    "<h4> Exploratory Data Analysis (EDA):What is the average age of passengers?\n",
    "What is the distribution of passengers by gender? <h4>"
   ]
  },
  {
   "cell_type": "code",
   "execution_count": 2,
   "id": "0961519d",
   "metadata": {
    "scrolled": true
   },
   "outputs": [
    {
     "data": {
      "text/html": [
       "<div>\n",
       "<style scoped>\n",
       "    .dataframe tbody tr th:only-of-type {\n",
       "        vertical-align: middle;\n",
       "    }\n",
       "\n",
       "    .dataframe tbody tr th {\n",
       "        vertical-align: top;\n",
       "    }\n",
       "\n",
       "    .dataframe thead th {\n",
       "        text-align: right;\n",
       "    }\n",
       "</style>\n",
       "<table border=\"1\" class=\"dataframe\">\n",
       "  <thead>\n",
       "    <tr style=\"text-align: right;\">\n",
       "      <th></th>\n",
       "      <th>Passenger ID</th>\n",
       "      <th>First Name</th>\n",
       "      <th>Last Name</th>\n",
       "      <th>Gender</th>\n",
       "      <th>Age</th>\n",
       "      <th>Nationality</th>\n",
       "      <th>Airport Name</th>\n",
       "      <th>Airport Country Code</th>\n",
       "      <th>Country Name</th>\n",
       "      <th>Airport Continent</th>\n",
       "      <th>Continents</th>\n",
       "      <th>Departure Date</th>\n",
       "      <th>Arrival Airport</th>\n",
       "      <th>Pilot Name</th>\n",
       "      <th>Flight Status</th>\n",
       "    </tr>\n",
       "  </thead>\n",
       "  <tbody>\n",
       "    <tr>\n",
       "      <th>0</th>\n",
       "      <td>ABVWIg</td>\n",
       "      <td>Edithe</td>\n",
       "      <td>Leggis</td>\n",
       "      <td>Female</td>\n",
       "      <td>62</td>\n",
       "      <td>Japan</td>\n",
       "      <td>Coldfoot Airport</td>\n",
       "      <td>US</td>\n",
       "      <td>United States</td>\n",
       "      <td>NAM</td>\n",
       "      <td>North America</td>\n",
       "      <td>6/28/2022</td>\n",
       "      <td>CXF</td>\n",
       "      <td>Fransisco Hazeldine</td>\n",
       "      <td>On Time</td>\n",
       "    </tr>\n",
       "    <tr>\n",
       "      <th>1</th>\n",
       "      <td>jkXXAX</td>\n",
       "      <td>Elwood</td>\n",
       "      <td>Catt</td>\n",
       "      <td>Male</td>\n",
       "      <td>62</td>\n",
       "      <td>Nicaragua</td>\n",
       "      <td>Kugluktuk Airport</td>\n",
       "      <td>CA</td>\n",
       "      <td>Canada</td>\n",
       "      <td>NAM</td>\n",
       "      <td>North America</td>\n",
       "      <td>12/26/2022</td>\n",
       "      <td>YCO</td>\n",
       "      <td>Marla Parsonage</td>\n",
       "      <td>On Time</td>\n",
       "    </tr>\n",
       "    <tr>\n",
       "      <th>2</th>\n",
       "      <td>CdUz2g</td>\n",
       "      <td>Darby</td>\n",
       "      <td>Felgate</td>\n",
       "      <td>Male</td>\n",
       "      <td>67</td>\n",
       "      <td>Russia</td>\n",
       "      <td>Grenoble-Isère Airport</td>\n",
       "      <td>FR</td>\n",
       "      <td>France</td>\n",
       "      <td>EU</td>\n",
       "      <td>Europe</td>\n",
       "      <td>1/18/2022</td>\n",
       "      <td>GNB</td>\n",
       "      <td>Rhonda Amber</td>\n",
       "      <td>On Time</td>\n",
       "    </tr>\n",
       "    <tr>\n",
       "      <th>3</th>\n",
       "      <td>BRS38V</td>\n",
       "      <td>Dominica</td>\n",
       "      <td>Pyle</td>\n",
       "      <td>Female</td>\n",
       "      <td>71</td>\n",
       "      <td>China</td>\n",
       "      <td>Ottawa / Gatineau Airport</td>\n",
       "      <td>CA</td>\n",
       "      <td>Canada</td>\n",
       "      <td>NAM</td>\n",
       "      <td>North America</td>\n",
       "      <td>9/16/2022</td>\n",
       "      <td>YND</td>\n",
       "      <td>Kacie Commucci</td>\n",
       "      <td>Delayed</td>\n",
       "    </tr>\n",
       "    <tr>\n",
       "      <th>4</th>\n",
       "      <td>9kvTLo</td>\n",
       "      <td>Bay</td>\n",
       "      <td>Pencost</td>\n",
       "      <td>Male</td>\n",
       "      <td>21</td>\n",
       "      <td>China</td>\n",
       "      <td>Gillespie Field</td>\n",
       "      <td>US</td>\n",
       "      <td>United States</td>\n",
       "      <td>NAM</td>\n",
       "      <td>North America</td>\n",
       "      <td>2/25/2022</td>\n",
       "      <td>SEE</td>\n",
       "      <td>Ebonee Tree</td>\n",
       "      <td>On Time</td>\n",
       "    </tr>\n",
       "  </tbody>\n",
       "</table>\n",
       "</div>"
      ],
      "text/plain": [
       "  Passenger ID First Name Last Name  Gender  Age Nationality  \\\n",
       "0       ABVWIg     Edithe    Leggis  Female   62       Japan   \n",
       "1       jkXXAX     Elwood      Catt    Male   62   Nicaragua   \n",
       "2       CdUz2g      Darby   Felgate    Male   67      Russia   \n",
       "3       BRS38V   Dominica      Pyle  Female   71       China   \n",
       "4       9kvTLo        Bay   Pencost    Male   21       China   \n",
       "\n",
       "                Airport Name Airport Country Code   Country Name  \\\n",
       "0           Coldfoot Airport                   US  United States   \n",
       "1          Kugluktuk Airport                   CA         Canada   \n",
       "2     Grenoble-Isère Airport                   FR         France   \n",
       "3  Ottawa / Gatineau Airport                   CA         Canada   \n",
       "4            Gillespie Field                   US  United States   \n",
       "\n",
       "  Airport Continent     Continents Departure Date Arrival Airport  \\\n",
       "0               NAM  North America      6/28/2022             CXF   \n",
       "1               NAM  North America     12/26/2022             YCO   \n",
       "2                EU         Europe      1/18/2022             GNB   \n",
       "3               NAM  North America      9/16/2022             YND   \n",
       "4               NAM  North America      2/25/2022             SEE   \n",
       "\n",
       "            Pilot Name Flight Status  \n",
       "0  Fransisco Hazeldine       On Time  \n",
       "1      Marla Parsonage       On Time  \n",
       "2         Rhonda Amber       On Time  \n",
       "3       Kacie Commucci       Delayed  \n",
       "4          Ebonee Tree       On Time  "
      ]
     },
     "execution_count": 2,
     "metadata": {},
     "output_type": "execute_result"
    }
   ],
   "source": [
    "df.head()"
   ]
  },
  {
   "cell_type": "code",
   "execution_count": 4,
   "id": "42b0563c",
   "metadata": {},
   "outputs": [
    {
     "data": {
      "text/plain": [
       "(98619, 15)"
      ]
     },
     "execution_count": 4,
     "metadata": {},
     "output_type": "execute_result"
    }
   ],
   "source": [
    "df.shape"
   ]
  },
  {
   "cell_type": "code",
   "execution_count": 5,
   "id": "e174f26c",
   "metadata": {},
   "outputs": [
    {
     "name": "stdout",
     "output_type": "stream",
     "text": [
      "<class 'pandas.core.frame.DataFrame'>\n",
      "RangeIndex: 98619 entries, 0 to 98618\n",
      "Data columns (total 15 columns):\n",
      " #   Column                Non-Null Count  Dtype \n",
      "---  ------                --------------  ----- \n",
      " 0   Passenger ID          98619 non-null  object\n",
      " 1   First Name            98619 non-null  object\n",
      " 2   Last Name             98619 non-null  object\n",
      " 3   Gender                98619 non-null  object\n",
      " 4   Age                   98619 non-null  int64 \n",
      " 5   Nationality           98619 non-null  object\n",
      " 6   Airport Name          98619 non-null  object\n",
      " 7   Airport Country Code  98619 non-null  object\n",
      " 8   Country Name          98619 non-null  object\n",
      " 9   Airport Continent     98619 non-null  object\n",
      " 10  Continents            98619 non-null  object\n",
      " 11  Departure Date        98619 non-null  object\n",
      " 12  Arrival Airport       98619 non-null  object\n",
      " 13  Pilot Name            98619 non-null  object\n",
      " 14  Flight Status         98619 non-null  object\n",
      "dtypes: int64(1), object(14)\n",
      "memory usage: 11.3+ MB\n"
     ]
    }
   ],
   "source": [
    "df.info()"
   ]
  },
  {
   "cell_type": "code",
   "execution_count": 6,
   "id": "e3e30462",
   "metadata": {},
   "outputs": [
    {
     "data": {
      "text/html": [
       "<div>\n",
       "<style scoped>\n",
       "    .dataframe tbody tr th:only-of-type {\n",
       "        vertical-align: middle;\n",
       "    }\n",
       "\n",
       "    .dataframe tbody tr th {\n",
       "        vertical-align: top;\n",
       "    }\n",
       "\n",
       "    .dataframe thead th {\n",
       "        text-align: right;\n",
       "    }\n",
       "</style>\n",
       "<table border=\"1\" class=\"dataframe\">\n",
       "  <thead>\n",
       "    <tr style=\"text-align: right;\">\n",
       "      <th></th>\n",
       "      <th>Age</th>\n",
       "    </tr>\n",
       "  </thead>\n",
       "  <tbody>\n",
       "    <tr>\n",
       "      <th>count</th>\n",
       "      <td>98619.000000</td>\n",
       "    </tr>\n",
       "    <tr>\n",
       "      <th>mean</th>\n",
       "      <td>45.504021</td>\n",
       "    </tr>\n",
       "    <tr>\n",
       "      <th>std</th>\n",
       "      <td>25.929849</td>\n",
       "    </tr>\n",
       "    <tr>\n",
       "      <th>min</th>\n",
       "      <td>1.000000</td>\n",
       "    </tr>\n",
       "    <tr>\n",
       "      <th>25%</th>\n",
       "      <td>23.000000</td>\n",
       "    </tr>\n",
       "    <tr>\n",
       "      <th>50%</th>\n",
       "      <td>46.000000</td>\n",
       "    </tr>\n",
       "    <tr>\n",
       "      <th>75%</th>\n",
       "      <td>68.000000</td>\n",
       "    </tr>\n",
       "    <tr>\n",
       "      <th>max</th>\n",
       "      <td>90.000000</td>\n",
       "    </tr>\n",
       "  </tbody>\n",
       "</table>\n",
       "</div>"
      ],
      "text/plain": [
       "                Age\n",
       "count  98619.000000\n",
       "mean      45.504021\n",
       "std       25.929849\n",
       "min        1.000000\n",
       "25%       23.000000\n",
       "50%       46.000000\n",
       "75%       68.000000\n",
       "max       90.000000"
      ]
     },
     "execution_count": 6,
     "metadata": {},
     "output_type": "execute_result"
    }
   ],
   "source": [
    "df.describe()"
   ]
  },
  {
   "cell_type": "code",
   "execution_count": 7,
   "id": "3b29c575",
   "metadata": {},
   "outputs": [],
   "source": [
    "df_clean = df.dropna()"
   ]
  },
  {
   "cell_type": "code",
   "execution_count": 8,
   "id": "54d4e535",
   "metadata": {},
   "outputs": [],
   "source": [
    "df.drop_duplicates(inplace=True)"
   ]
  },
  {
   "cell_type": "code",
   "execution_count": 9,
   "id": "b6c63965",
   "metadata": {},
   "outputs": [],
   "source": [
    "df_cleaned = df.dropna()"
   ]
  },
  {
   "cell_type": "code",
   "execution_count": 10,
   "id": "a5907c07",
   "metadata": {},
   "outputs": [
    {
     "name": "stdout",
     "output_type": "stream",
     "text": [
      "      Passenger ID  First Name  Last Name  Gender  Age Nationality  \\\n",
      "0           ABVWIg      Edithe     Leggis  Female   62       Japan   \n",
      "1           jkXXAX      Elwood       Catt    Male   62   Nicaragua   \n",
      "2           CdUz2g       Darby    Felgate    Male   67      Russia   \n",
      "3           BRS38V    Dominica       Pyle  Female   71       China   \n",
      "4           9kvTLo         Bay    Pencost    Male   21       China   \n",
      "...            ...         ...        ...     ...  ...         ...   \n",
      "98614       hnGQ62      Gareth    Mugford    Male   85       China   \n",
      "98615       2omEzh       Kasey   Benedict  Female   19      Russia   \n",
      "98616       VUPiVG      Darrin     Lucken    Male   65   Indonesia   \n",
      "98617       E47NtS       Gayle  Lievesley  Female   34       China   \n",
      "98618       8JYEcz  Wilhelmine     Touret  Female   10      Poland   \n",
      "\n",
      "                      Airport Name Airport Country Code        Country Name  \\\n",
      "0                 Coldfoot Airport                   US       United States   \n",
      "1                Kugluktuk Airport                   CA              Canada   \n",
      "2           Grenoble-Isère Airport                   FR              France   \n",
      "3        Ottawa / Gatineau Airport                   CA              Canada   \n",
      "4                  Gillespie Field                   US       United States   \n",
      "...                            ...                  ...                 ...   \n",
      "98614               Hasvik Airport                   NO              Norway   \n",
      "98615          Ampampamena Airport                   MG          Madagascar   \n",
      "98616  Albacete-Los Llanos Airport                   ES               Spain   \n",
      "98617               Gagnoa Airport                   CI       Côte d'Ivoire   \n",
      "98618          Yoshkar-Ola Airport                   RU  Russian Federation   \n",
      "\n",
      "      Airport Continent     Continents Departure Date Arrival Airport  \\\n",
      "0                   NAM  North America      6/28/2022             CXF   \n",
      "1                   NAM  North America     12/26/2022             YCO   \n",
      "2                    EU         Europe      1/18/2022             GNB   \n",
      "3                   NAM  North America      9/16/2022             YND   \n",
      "4                   NAM  North America      2/25/2022             SEE   \n",
      "...                 ...            ...            ...             ...   \n",
      "98614                EU         Europe     12/11/2022             HAA   \n",
      "98615                AF         Africa     10/30/2022             IVA   \n",
      "98616                EU         Europe     09/10/2022             ABC   \n",
      "98617                AF         Africa     10/26/2022             GGN   \n",
      "98618                EU         Europe      4/16/2022             JOK   \n",
      "\n",
      "                Pilot Name Flight Status  \n",
      "0      Fransisco Hazeldine       On Time  \n",
      "1          Marla Parsonage       On Time  \n",
      "2             Rhonda Amber       On Time  \n",
      "3           Kacie Commucci       Delayed  \n",
      "4              Ebonee Tree       On Time  \n",
      "...                    ...           ...  \n",
      "98614     Pammie Kingscote     Cancelled  \n",
      "98615       Dorice Lochran     Cancelled  \n",
      "98616         Gearalt Main       On Time  \n",
      "98617         Judon Chasle     Cancelled  \n",
      "98618      Auguste Tindley       Delayed  \n",
      "\n",
      "[98619 rows x 15 columns]\n"
     ]
    }
   ],
   "source": [
    "print(df_cleaned)"
   ]
  },
  {
   "cell_type": "code",
   "execution_count": 12,
   "id": "2cad97f3",
   "metadata": {},
   "outputs": [
    {
     "name": "stdout",
     "output_type": "stream",
     "text": [
      "Average Age of Passengers: 45.50402052342855\n",
      "Distribution of Passengers by Gender:\n",
      " Male      49598\n",
      "Female    49021\n",
      "Name: Gender, dtype: int64\n"
     ]
    }
   ],
   "source": [
    "# Calculate the average age of passengers\n",
    "average_age = df_cleaned['Age'].mean()\n",
    "print(\"Average Age of Passengers:\", average_age)\n",
    "\n",
    "# Calculate the distribution of passengers by gender\n",
    "gender_distribution = df_cleaned['Gender'].value_counts()\n",
    "print(\"Distribution of Passengers by Gender:\\n\", gender_distribution)"
   ]
  },
  {
   "cell_type": "code",
   "execution_count": 13,
   "id": "9e73342a",
   "metadata": {},
   "outputs": [
    {
     "name": "stdout",
     "output_type": "stream",
     "text": [
      "Oldest Passenger:\n",
      "       Passenger ID First Name  Last Name  Gender  Age         Nationality  \\\n",
      "170         to75jW    Pamella      Eaden  Female   90           Indonesia   \n",
      "199         Zlsjqw     Sydney    MacGhee    Male   90           Guatemala   \n",
      "206         aogYWd     Vernen   Ivakhnov    Male   90               China   \n",
      "273         X0basI    Mariann     Moogan  Female   90         Philippines   \n",
      "358         N7DLfQ   Jermaine     Escott    Male   90            Portugal   \n",
      "...            ...        ...        ...     ...  ...                 ...   \n",
      "98092       uQoe6n        Ian  Proudlove    Male   90              Gambia   \n",
      "98211       aIaf11     Linnet     Reedie  Female   90         South Korea   \n",
      "98226       FOn03V    Filippo       Pays    Male   90            Colombia   \n",
      "98253       Ic4WhE      Marve    Mongain    Male   90           Indonesia   \n",
      "98552       D1q05w      Liuka    Caffrey  Female   90  Dominican Republic   \n",
      "\n",
      "                             Airport Name Airport Country Code  \\\n",
      "170                Amchitka Army Airfield                   US   \n",
      "199                      El Petén Airport                   GT   \n",
      "206                       Mullewa Airport                   AU   \n",
      "273           São Miguel do Oeste Airport                   BR   \n",
      "358    Northeast Alabama Regional Airport                   US   \n",
      "...                                   ...                  ...   \n",
      "98092         Tuzla International Airport                   BA   \n",
      "98211                 Fort Nelson Airport                   CA   \n",
      "98226              Tyndall Air Force Base                   US   \n",
      "98253                 Chenega Bay Airport                   US   \n",
      "98552           Gooding Municipal Airport                   US   \n",
      "\n",
      "                 Country Name Airport Continent     Continents Departure Date  \\\n",
      "170             United States               NAM  North America     06/07/2022   \n",
      "199                 Guatemala               NAM  North America     05/05/2022   \n",
      "206                 Australia                OC        Oceania     09/10/2022   \n",
      "273                    Brazil               SAM  South America     06/02/2022   \n",
      "358             United States               NAM  North America      7/15/2022   \n",
      "...                       ...               ...            ...            ...   \n",
      "98092  Bosnia and Herzegovina                EU         Europe      2/26/2022   \n",
      "98211                  Canada               NAM  North America     11/20/2022   \n",
      "98226           United States               NAM  North America     06/10/2022   \n",
      "98253           United States               NAM  North America      3/13/2022   \n",
      "98552           United States               NAM  North America     03/02/2022   \n",
      "\n",
      "      Arrival Airport          Pilot Name Flight Status  \n",
      "170               AHT      Pearle Assiter     Cancelled  \n",
      "199               TKM         Ambur Boden       On Time  \n",
      "206               MXU      Lidia Kleinert       Delayed  \n",
      "273               SQX  Bertrand Cauldwell       On Time  \n",
      "358               GAD  Freedman Concannon       Delayed  \n",
      "...               ...                 ...           ...  \n",
      "98092             TZL        Megen Burgin       Delayed  \n",
      "98211             YYE      Giulio Downham       Delayed  \n",
      "98226             PAM     Janetta Howsego     Cancelled  \n",
      "98253             NCN      Lorilyn McCory       On Time  \n",
      "98552             GNG     Mahmud Gabbitis     Cancelled  \n",
      "\n",
      "[1076 rows x 15 columns]\n",
      "Youngest Passenger's Departure Date:\n",
      " 167      12/17/2022\n",
      "567       9/30/2022\n",
      "575       7/29/2022\n",
      "635      08/11/2022\n",
      "738      12/19/2022\n",
      "            ...    \n",
      "98308    03/11/2022\n",
      "98339    06/03/2022\n",
      "98366    07/04/2022\n",
      "98498    12/27/2022\n",
      "98535     3/30/2022\n",
      "Name: Departure Date, Length: 1075, dtype: object\n"
     ]
    }
   ],
   "source": [
    "# Who is the oldest passenger and how old are they?\n",
    "oldest_passenger = df_cleaned[df_cleaned['Age'] == df_cleaned['Age'].max()]\n",
    "print(\"Oldest Passenger:\\n\", oldest_passenger)\n",
    "\n",
    "# What is the departure date of the passenger with the youngest age?\n",
    "youngest_passenger = df_cleaned[df_cleaned['Age'] == df_cleaned['Age'].min()]\n",
    "print(\"Youngest Passenger's Departure Date:\\n\", youngest_passenger['Departure Date'])\n",
    "\n"
   ]
  },
  {
   "cell_type": "markdown",
   "id": "9e78aea9",
   "metadata": {},
   "source": [
    "<h4> What is the distribution of passengers' nationalities in the dataset?<h4>"
   ]
  },
  {
   "cell_type": "code",
   "execution_count": 14,
   "id": "2da052ec",
   "metadata": {},
   "outputs": [
    {
     "name": "stdout",
     "output_type": "stream",
     "text": [
      "Distribution of Passengers by Nationality:\n",
      " China             18317\n",
      "Indonesia         10559\n",
      "Russia             5693\n",
      "Philippines        5239\n",
      "Brazil             3791\n",
      "                  ...  \n",
      "Saint Martin          2\n",
      "Romania               2\n",
      "Jersey                1\n",
      "Sint Maarten          1\n",
      "Norfolk Island        1\n",
      "Name: Nationality, Length: 240, dtype: int64\n"
     ]
    }
   ],
   "source": [
    "nationality_distribution = df_cleaned['Nationality'].value_counts()\n",
    "print(\"Distribution of Passengers by Nationality:\\n\", nationality_distribution)"
   ]
  },
  {
   "cell_type": "markdown",
   "id": "56b73ade",
   "metadata": {},
   "source": [
    "Which airport had the most departures in this dataset, and how many departures were there?"
   ]
  },
  {
   "cell_type": "code",
   "execution_count": 15,
   "id": "077c7189",
   "metadata": {},
   "outputs": [
    {
     "name": "stdout",
     "output_type": "stream",
     "text": [
      "The airport with the most departures is San Pedro Airport with 43 departures.\n"
     ]
    }
   ],
   "source": [
    "most_departures = df_cleaned['Airport Name'].value_counts().idxmax()\n",
    "departure_count = df_cleaned['Airport Name'].value_counts().max()\n",
    "print(f\"The airport with the most departures is {most_departures} with {departure_count} departures.\")"
   ]
  },
  {
   "cell_type": "markdown",
   "id": "67540651",
   "metadata": {},
   "source": [
    "<h4>What is the distribution of passengers by continent of nationality?<h4>"
   ]
  },
  {
   "cell_type": "code",
   "execution_count": 16,
   "id": "bef877c6",
   "metadata": {},
   "outputs": [
    {
     "name": "stdout",
     "output_type": "stream",
     "text": [
      "Distribution of Passengers by Continent of Nationality:\n",
      " NAM    32033\n",
      "AS     18637\n",
      "OC     13866\n",
      "EU     12335\n",
      "AF     11030\n",
      "SAM    10718\n",
      "Name: Airport Continent, dtype: int64\n"
     ]
    }
   ],
   "source": [
    "continent_distribution = df_cleaned['Airport Continent'].value_counts()\n",
    "print(\"Distribution of Passengers by Continent of Nationality:\\n\", continent_distribution)"
   ]
  },
  {
   "cell_type": "markdown",
   "id": "5b8cb3a6",
   "metadata": {},
   "source": [
    "<h4>What is the flight status for the flight with the most recent departure date, and who is the pilot for that flight?<h4>"
   ]
  },
  {
   "cell_type": "code",
   "execution_count": 17,
   "id": "1ac4845c",
   "metadata": {},
   "outputs": [
    {
     "name": "stdout",
     "output_type": "stream",
     "text": [
      "The most recent flight has a status of 'Cancelled' and is piloted by Baron Plowes.\n"
     ]
    }
   ],
   "source": [
    "most_recent_flight = df_cleaned[df_cleaned['Departure Date'] == df_cleaned['Departure Date'].max()]\n",
    "flight_status = most_recent_flight['Flight Status'].values[0]\n",
    "pilot_name = most_recent_flight['Pilot Name'].values[0]\n",
    "print(f\"The most recent flight has a status of '{flight_status}' and is piloted by {pilot_name}.\")"
   ]
  },
  {
   "cell_type": "markdown",
   "id": "c5514fd7",
   "metadata": {},
   "source": [
    "<h4>How many passengers are there from the United States, and what is the average age of these passengers?<h4>"
   ]
  },
  {
   "cell_type": "code",
   "execution_count": 18,
   "id": "005b26e4",
   "metadata": {},
   "outputs": [
    {
     "name": "stdout",
     "output_type": "stream",
     "text": [
      "There are 22104 passengers from the United States with an average age of 45.56 years.\n"
     ]
    }
   ],
   "source": [
    "us_passengers = df_cleaned[df_cleaned['Country Name'] == 'United States']\n",
    "us_passenger_count = len(us_passengers)\n",
    "us_average_age = us_passengers['Age'].mean()\n",
    "print(f\"There are {us_passenger_count} passengers from the United States with an average age of {us_average_age:.2f} years.\")"
   ]
  },
  {
   "cell_type": "markdown",
   "id": "ff436636",
   "metadata": {},
   "source": [
    "<h4>What is the total number of passengers on-time vs. delayed by flight status?<h4>"
   ]
  },
  {
   "cell_type": "code",
   "execution_count": 19,
   "id": "e67c684d",
   "metadata": {},
   "outputs": [
    {
     "name": "stdout",
     "output_type": "stream",
     "text": [
      "Total Number of Passengers by Flight Status:\n",
      " Cancelled    32942\n",
      "On Time      32846\n",
      "Delayed      32831\n",
      "Name: Flight Status, dtype: int64\n"
     ]
    }
   ],
   "source": [
    "flight_status_count = df_cleaned['Flight Status'].value_counts()\n",
    "print(\"Total Number of Passengers by Flight Status:\\n\", flight_status_count)"
   ]
  },
  {
   "cell_type": "code",
   "execution_count": null,
   "id": "9c33aab9",
   "metadata": {},
   "outputs": [],
   "source": []
  }
 ],
 "metadata": {
  "kernelspec": {
   "display_name": "Python 3",
   "language": "python",
   "name": "python3"
  },
  "language_info": {
   "codemirror_mode": {
    "name": "ipython",
    "version": 3
   },
   "file_extension": ".py",
   "mimetype": "text/x-python",
   "name": "python",
   "nbconvert_exporter": "python",
   "pygments_lexer": "ipython3",
   "version": "3.8.8"
  }
 },
 "nbformat": 4,
 "nbformat_minor": 5
}
